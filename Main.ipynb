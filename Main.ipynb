!apt install python3-libtorrent
from google.colab import drive
drive.mount(r'gdrive')
from google.colab import files
s1=[r'''magnet:?xt=urn:btih:XRW2ODTZ3RFERFHEBKTDCGDYKHY2A4D4&dn=Mosh Hamedani - All Courses Pack&tr=http%3A%2F%2Fbt2.t-ru.org%2Fann''']
import libtorrent as lt
import time
import sys
for source in s1:
  ses = lt.session()
  ses.listen_on(6881, 6891)
  params = {"save_path": "gdrive/Shared drives/Free Google Drive/Torrent"}#https://drive.google.com/?usp=sharing
  if isinstance(source, str):h = lt.add_magnet_uri(ses, source, params)
  else:
    params["ti"] = lt.torrent_info(list(source.keys())[0])
    h = ses.add_torrent(params)
    print("starting", h.name())
print("starting", h.name())
while not h.is_seed():
  s = h.status()
  state_str = ["queued","checking","downloading metadata","downloading","finished","seeding","allocating","checking fastresume"]
  print(" \r%.2f%% of %.2fMB, %.1f, %.1f , %d, %s " % (s.progress * 100,s.total_wanted/1024.0/1024.0,s.download_rate / 1000,s.upload_rate / 1000,s.num_peers,state_str[s.state],))
  sys.stdout.flush()
  time.sleep(1)
  print(h.name(), "complete")
